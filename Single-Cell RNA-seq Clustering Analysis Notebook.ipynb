{
 "cells": [
  {
   "cell_type": "markdown",
   "metadata": {},
   "source": [
    "# Single-Cell RNA-seq Clustering Analysis Notebook\n",
    "\n",
    "**Author** - Clarence Mah\n",
    "<br>\n",
    "**Email** - ckmah.ucsd.edu\n",
    "\n",
    "This notebook analyzes a dataset of [3K Peripheral Blood Mononuclear Cells (PBMCs) from a Healthy Donor](https://support.10xgenomics.com/single-cell-gene-expression/datasets/1.1.0/pbmc3k) available from 10X Genomics, sequenced on the Illumina NextSeq 500. Steps are modeled after the [Seurat Guided Clustering Tutorial](http://satijalab.org/seurat/pbmc3k_tutorial.html) using the [scanpy](https://github.com/theislab/scanpy) library. \n",
    "\n",
    "### Objective\n",
    "The goal of this notebook is to provide a standard single-cell RNA-seq analysis workflow for pre-processing, identifying sub-populations of cells by clustering, and exploring biomarkers to explain intra-population heterogeneity.\n",
    "\n",
    "### Dataset\n",
    "The example dataset consists of the expression of 2,700 single PBMCs.\n",
    "\n",
    "### Analysis Overview\n",
    "\n",
    "1. [**Setup Analysis**](#Step-1:-Setup-Analysis)\n",
    "    1. Load raw count matrix.\n",
    "2. [**Preprocess Counts**](#Step-2:-Preprocess-Counts)\n",
    "    1. Filter cells based on QC metrics.\n",
    "    2. Perform data normalization and scaling.\n",
    "    3. Remove unwanted sources of variation (number of detected molecules per cell as well as the percentage mitochondrial gene content).\n",
    "    4. Detect highly variable genes.\n",
    "    5. Perform linear dimensional reduction (PCA).\n",
    "3. [**Cluster Cells**](#Step-3:-Cluster-Cells)\n",
    "    1. Cluster cells (graph-based clustering) in PCA space and visualize using t-SNE.\n",
    "4. [**Visualize Cluster Markers**](#Step-4:-Visualize-Cluster-Markers)\n",
    "    1. Explore and visualize cluster markers interactively.\n",
    "5. [**Export Analysis Data**](#Step-5:-Export-Analysis-Data)\n",
    "    1. Export data to `.csv` files or a compressed `.h5ad` format."
   ]
  },
  {
   "cell_type": "markdown",
   "metadata": {},
   "source": [
    "# Step 1: Setup Analysis\n",
    "\n",
    "<p>Load a raw count matrix for a single-cell RNA-seq experiment. </p>\n",
    "\n",
    "<div class=\"alert alert-info\">\n",
    "<h3 style=\"margin-top: 0;\"> Instructions <i class=\"fa fa-info-circle\"></i></h3>\n",
    "<p>Provide your data file either as a URL or local file path. Select \"2700 PBMCs from a Healthy Donor (example)\" from the dropdown menu to load the example dataset.</p><br>\n",
    "\n",
    "<p><b>Supported file formats</b>: `csv`, `xlsx`, `txt`, `tsv`, `tab`, `data`, `h5`, `h5ad`, `soft.gz`, `txt.gz`, `anndata`, `mtx*`</p>\n",
    "\n",
    "<p><b>Text and Excel files</b> (csv, txt, tsv, tab, data, xlsx): Gene and sample names are assumed to be the first column and row respectively.</p>\n",
    "\n",
    "<p><b>NOTE*</b>: The 10x Genomics genomics pipeline generates gene-barcode matrices usually named `matrix.mtx`, `genes.tsv`, and `barcodes.tsv`. If the `mtx` files is provided, the genes and barcodes files will autoomatically be imported from the same folder.</p>\n",
    "</div>"
   ]
  },
  {
   "cell_type": "code",
   "execution_count": null,
   "metadata": {
    "ExecuteTime": {
     "end_time": "2018-03-13T04:51:08.794866Z",
     "start_time": "2018-03-13T04:51:08.759293Z"
    },
    "genepattern": {
     "show_code": false,
     "type": "uibuilder"
    }
   },
   "outputs": [],
   "source": [
    "import warnings\n",
    "warnings.filterwarnings(\"ignore\", category=FutureWarning)\n",
    "\n",
    "import sys\n",
    "sys.path.append('.')\n",
    "\n",
    "import genepattern\n",
    "from singlecell import SingleCellAnalysis, sc\n",
    "import logging\n",
    "sc.settings.verbosity = 0\n",
    "logging.disable(logging.INFO)\n",
    "\n",
    "%matplotlib inline\n",
    "\n",
    "analysis = SingleCellAnalysis()\n",
    "genepattern.GPUIBuilder(\n",
    "    analysis.setup_analysis,\n",
    "    function_import='analysis.setup_analysis',\n",
    "    name='Setup Analysis',\n",
    "    parameters={\n",
    "        'matrix_filepath': {\n",
    "            'name': 'matrix data file',\n",
    "            'description': 'Provide your data file either as a URL or local file path. See above instructions for supported formats.',\n",
    "            'default': '2700 PBMCs from a Healthy Donor (example)',\n",
    "            'type': 'file',\n",
    "            'choices': {'2700 PBMCs from a Healthy Donor (example)': 'https://github.com/genepattern/seurat_python_notebook/raw/master/data/matrix.mtx'},\n",
    "            'kinds': ['csv', 'xlsx', 'txt', 'tsv', 'tab', 'data', 'h5', 'h5ad', 'soft.gz', 'txt.gz', 'anndata', 'mtx'],\n",
    "        },\n",
    "        'output_var': {\n",
    "            'hide': True\n",
    "        }\n",
    "    }\n",
    ")"
   ]
  },
  {
   "cell_type": "markdown",
   "metadata": {},
   "source": [
    "# Step 2: Preprocess Counts\n",
    "\n",
    "<p>Perform cell quality control by evaluating quality metrics, normalizing counts, scaling, and correcting for effects of total counts per cell and the percentage of mitochondrial genes expressed. Then detect highly variable genes and perform linear dimensional reduction (PCA).</p>\n",
    "\n",
    "<div class=\"alert alert-info\">\n",
    "<h3 style=\"margin-top: 0;\">Instructions <i class=\"fa fa-info-circle\"></i></h3>\n",
    "<p>Use the quality metrics displayed in the output of **Step 1** to detect outlier cells and set ranges to filter them. Removing unwanted sources of variation may take some time to complete.</p>\n",
    "</div>"
   ]
  },
  {
   "cell_type": "code",
   "execution_count": null,
   "metadata": {
    "ExecuteTime": {
     "end_time": "2018-03-13T04:51:08.860917Z",
     "start_time": "2018-03-13T04:51:08.798572Z"
    },
    "genepattern": {
     "type": "uibuilder"
    }
   },
   "outputs": [],
   "source": [
    "genepattern.GPUIBuilder(\n",
    "    analysis.preprocess_counts,\n",
    "    function_import='analysis.preprocess_counts',\n",
    "    name='Preprocess Counts',\n",
    "    parameters={\n",
    "        'data': {\n",
    "            'description': 'Output from the \"Setup Analysis\" tool.',\n",
    "            'default': 'analysis'\n",
    "        },\n",
    "        \n",
    "        'min_n_cells': {\n",
    "            'name': 'filter genes (min. # of cells)',\n",
    "            'description': 'Include genes expressed in at least this many cells. Blank will be treated as 0.',\n",
    "            'type': 'number',\n",
    "            'default': 3\n",
    "        },\n",
    "        \n",
    "        'min_n_genes': {\n",
    "            'name': 'filter cells (min. # of genes)',\n",
    "            'description': 'Include cells with at least this many genes. Blank will be treated as 0.',\n",
    "            'type': 'number',\n",
    "            'default': 200\n",
    "        },\n",
    "        'max_n_genes': {\n",
    "            'name': 'filter cells (max # of genes)',\n",
    "            'description': 'Include cells with at most this many genes. Blank will be treated as no maximum value.',\n",
    "            'type': 'number',\n",
    "            'default': 2500\n",
    "        },\n",
    "        'min_n_counts': {\n",
    "            'name': 'filter cells (min. total counts)',\n",
    "            'description': 'Include cells with at least this many counts. Blank will be treated as 0.',\n",
    "            'type': 'number',\n",
    "            'default': 0\n",
    "        },\n",
    "        'max_n_counts': {\n",
    "            'name': 'filter cells (max total counts)',\n",
    "            'description': 'Include cells with at most this many counts. Blank will be treated as no maximum value.',\n",
    "            'type': 'number',\n",
    "            'default': 15000\n",
    "        },\n",
    "        'min_percent_mito': {\n",
    "            'name': 'filter cells (min. % mito. genes)',\n",
    "            'description': 'Include cells with at least this % of reads mapped to mitochondrial genes. Blank will be treated as 0.',\n",
    "            'type': 'number',\n",
    "            'default': 0\n",
    "        },\n",
    "        'max_percent_mito': {\n",
    "            'name': 'filter cells (max % mito. genes)',\n",
    "            'description': 'Include cells with at most this % of reads mapped to mitochondrial genes. Blank will be treated as no maximum value.',\n",
    "            'type': 'number',\n",
    "            'default': 15\n",
    "        },\n",
    "        'normalization_method': {\n",
    "            'name': 'log normalize',\n",
    "            'description': 'Perform log normalization on the data.',\n",
    "            'choices': {'Yes': 'LogNormalize', 'No': ''}\n",
    "        },\n",
    "        'output_var': {\n",
    "            'hide': True\n",
    "        }\n",
    "    })"
   ]
  },
  {
   "cell_type": "markdown",
   "metadata": {},
   "source": [
    "# Step 3: Cluster Cells\n",
    "\n",
    "<p>Cluster cells using the Louvain method for community detection on the top # of principal components. Then use t-SNE to visualize cells, again using the top # of principal components.</p>\n",
    "\n",
    "<div class=\"alert alert-info\">\n",
    "<h3 style=\"margin-top: 0;\">Instructions <i class=\"fa fa-info-circle\"></i></h3>\n",
    "<p>Perform clustering and visualization of the cells using the sliders to tune parameters. It is important to note that the fewer PCs we choose to use, the less noise we have when clustering, but at the risk of excluding relevant biological variance. Look at the plot in **Step 2** showing the percent variance explained by each principle component and choose a cutoff where there is a clear elbow in the graph. The principal components to the left of this cutoff are then used to cluster the cells.</p>\n",
    "</div>"
   ]
  },
  {
   "cell_type": "code",
   "execution_count": null,
   "metadata": {
    "ExecuteTime": {
     "end_time": "2018-03-13T04:51:08.886954Z",
     "start_time": "2018-03-13T04:51:08.864382Z"
    },
    "genepattern": {
     "type": "uibuilder"
    }
   },
   "outputs": [],
   "source": [
    "genepattern.GPUIBuilder(\n",
    "    analysis.cluster_cells,\n",
    "    function_import='analysis.cluster_cells',\n",
    "    name='Open Cell Clustering Interface',\n",
    "    description='This step outputs an interactive interface to cluster cells.',\n",
    "    parameters={\n",
    "        'output_var': {\n",
    "            'hide': True\n",
    "        }\n",
    "    })"
   ]
  },
  {
   "cell_type": "markdown",
   "metadata": {},
   "source": [
    "# Step 4: Visualize Cluster Markers\n",
    "\n",
    "<p>Visualization the expression of markers on the clustering plot. Explore genes that are differentially expressed in clusters as potential biomarkers. We provide the Wilcoxon rank-sum test (default) and t-test as test options. The non-parametric Wilcoxon rank-sum test generally performs better for single-cell data since single-cell counts are usually not normally distributed, which the t-test assumes. The Wilcoxon rank-sum test is also less sensitive to outliers.</p>\n",
    "\n",
    "<div class=\"alert alert-info\">\n",
    "<h3 style=\"margin-top: 0;\">Instructions <i class=\"fa fa-info-circle\"></i></h3>\n",
    "<p>The following are canonical markers that mark known cell types in this dataset. These can be used to identify what cell types are present and how they correspond to clusters.</p>\n",
    "</div>\n",
    "\n",
    "| Cell Type | Markers |\n",
    "| --------- | ------- |\n",
    "| CD4 T Cells | IL7R |\n",
    "| LYZCD14+ Monocytes | CD14, LYZ |\n",
    "| B cells | MS4A1 |\n",
    "| CD8 T cells | CD8A |\n",
    "| FCGR3A+ Monocytes | FCGR3A, MS4A7 |\n",
    "| NK cells | GNLY, NKG7 |\n",
    "| Dendritic Cells | FCER1A, CST3 |\n",
    "| Megakaryocytes | PPBP |"
   ]
  },
  {
   "cell_type": "code",
   "execution_count": null,
   "metadata": {
    "ExecuteTime": {
     "end_time": "2018-03-13T04:51:08.905765Z",
     "start_time": "2018-03-13T04:51:08.890001Z"
    },
    "genepattern": {
     "type": "uibuilder"
    }
   },
   "outputs": [],
   "source": [
    "genepattern.GPUIBuilder(\n",
    "    analysis.visualize_markers,\n",
    "    function_import='analysis.visualize_markers',\n",
    "    name='Open Visualize Cluster Markers Interface',\n",
    "    description='This step outputs an interactive interface to explore gene expression in clusters of cells.',\n",
    "    parameters={\n",
    "        'output_var': {\n",
    "            'hide': True\n",
    "        }\n",
    "    }\n",
    ")"
   ]
  },
  {
   "cell_type": "markdown",
   "metadata": {},
   "source": [
    "# Step 5: Export Analysis Data\n",
    "\n",
    "<div class=\"alert alert-info\">\n",
    "<h3 style=\"margin-top: 0;\">Instructions <i class=\"fa fa-info-circle\"></i></h3>\n",
    "<p>Using the cell below, export results as a series of <code>.csv</code> files or compressed <code>.h5ad</code> file. The files will create and appear in <a href=\"data/\">the data folder by default.</a></p>\n",
    "</div>\n",
    "<h4>Relevant Files</h4>\n",
    "<p>\n",
    "<ul>\n",
    "    <li><code>X.csv</code> - The preprocessed expression matrix of cells (rows) by genes (columns). This only includes variable genes, usually a much smaller subset of genes compared to the raw counts.</li>\n",
    "    <li><code>obs.csv</code> - Cell annotations including # of genes, % mitochondrial genes,  and cluster assignments</li>\n",
    "    <li><code>obsm.csv</code> - Coordinates of cells in various dimensional reduction spaces (e.g., PCA, t-SNE).</li>\n",
    "    <li><code>var.csv</code> - Gene annotations (of variable genes) including the # of cells, mean expression, dispersion, and normalized dispersion statistics.</li>\n",
    "    <li><code>varm.csv</code> - Loadings of cells in various dimensional reduction spaces (e.g., PCA, t-SNE).\n",
    "</li>\n",
    "    <li><code>uns/pca_variance_ratio.csv</code> - % variance explained by each principal component.</li>\n",
    "    <li><code>uns/rank_genes_groups_gene_names.csv</code> - Names of the top ranked marker genes for each cluster.</li>\n",
    "    <li><code>uns/rank_genes_groups_gene_scores.csv</code> - z-scores of the top ranked marker genes for each cluster.</li>\n",
    "</ul>\n",
    "</p>"
   ]
  },
  {
   "cell_type": "code",
   "execution_count": null,
   "metadata": {
    "ExecuteTime": {
     "end_time": "2018-03-13T04:51:08.927131Z",
     "start_time": "2018-03-13T04:51:08.908243Z"
    },
    "genepattern": {
     "type": "uibuilder"
    }
   },
   "outputs": [],
   "source": [
    "genepattern.GPUIBuilder(\n",
    "    analysis.export_data,\n",
    "    function_import='analysis.export_data',\n",
    "    name='Export Analysis Data',\n",
    "    description='Export data as a series of .csv files or compressed .hda5 file.',\n",
    "    parameters={\n",
    "        'path': {\n",
    "            'name': 'filepath',\n",
    "            'description': 'Name of directory where file(s) will be saved. Exporting as an h5ad file produces a single file output.',\n",
    "            'default': 'data/analysis'\n",
    "        },\n",
    "        'h5ad': {\n",
    "            'name': 'file format',\n",
    "            'description': 'Choose to save either as .csv files or as a single compressed .h5ad-formatted hdf5 file. It is recommended to export .csv files unless you know what you are doing.',\n",
    "            'default': False,\n",
    "            'choices': {\n",
    "                'Comma-separated values (.csv)': False,\n",
    "                'H5AD file (HDF5 file in the AnnData formatting convention)': True\n",
    "            },\n",
    "        },\n",
    "        'output_var': {\n",
    "            'hide': True\n",
    "        }\n",
    "    }\n",
    ")"
   ]
  }
 ],
 "metadata": {
  "kernelspec": {
   "display_name": "Python 3",
   "language": "python",
   "name": "python3"
  },
  "language_info": {
   "codemirror_mode": {
    "name": "ipython",
    "version": 3
   },
   "file_extension": ".py",
   "mimetype": "text/x-python",
   "name": "python",
   "nbconvert_exporter": "python",
   "pygments_lexer": "ipython3",
   "version": "3.6.1"
  },
  "varInspector": {
   "cols": {
    "lenName": 16,
    "lenType": 16,
    "lenVar": 40
   },
   "kernels_config": {
    "python": {
     "delete_cmd_postfix": "",
     "delete_cmd_prefix": "del ",
     "library": "var_list.py",
     "varRefreshCmd": "print(var_dic_list())"
    },
    "r": {
     "delete_cmd_postfix": ") ",
     "delete_cmd_prefix": "rm(",
     "library": "var_list.r",
     "varRefreshCmd": "cat(var_dic_list()) "
    }
   },
   "types_to_exclude": [
    "module",
    "function",
    "builtin_function_or_method",
    "instance",
    "_Feature"
   ],
   "window_display": false
  }
 },
 "nbformat": 4,
 "nbformat_minor": 2
}
